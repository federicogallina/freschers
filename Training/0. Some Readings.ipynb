{
 "cells": [
  {
   "cell_type": "markdown",
   "id": "1f75aa5b",
   "metadata": {},
   "source": [
    "# Gears:\n",
    "# Some Readings\n",
    "### Useful tutorial on computational methods for propagation schemes:\n",
    "- F. Campaioli, J. H. Cole, H. Hapuarachchi, A Tutorial on Quantum Master Equations: Tips and tricks for quantum optics, quantum computing and beyond (2023) [arXiv:2303.16449](https://arxiv.org/abs/2303.16449)\n",
    "\n",
    "### Review of quantum mechanics in Liouville space:\n",
    "- J. A. Gyamfi, Fundamentals of quantum mechanics in Liouville space, Eur. J. Phys. 41 (2020) 063002 [doi: 10.1088/1361-6404/ab9fdd](https://doi.org/10.1088/1361-6404/ab9fdd)\n",
    "\n",
    "### Quantum mechanics and quantum information:\n",
    "- Simone Montangero lecture notes [github.com/Einlar/InfoQuantistica](https://github.com/Einlar/InfoQuantistica)\n",
    "- Gabriel Landi notes [fmt.if.usp.br/~gtlandi/courses/qinfo.html](http://www.fmt.if.usp.br/~gtlandi/courses/qinfo.html)"
   ]
  },
  {
   "cell_type": "code",
   "execution_count": null,
   "id": "abec97a7",
   "metadata": {},
   "outputs": [],
   "source": []
  }
 ],
 "metadata": {
  "kernelspec": {
   "display_name": "Python 3 (ipykernel)",
   "language": "python",
   "name": "python3"
  },
  "language_info": {
   "codemirror_mode": {
    "name": "ipython",
    "version": 3
   },
   "file_extension": ".py",
   "mimetype": "text/x-python",
   "name": "python",
   "nbconvert_exporter": "python",
   "pygments_lexer": "ipython3",
   "version": "3.11.5"
  }
 },
 "nbformat": 4,
 "nbformat_minor": 5
}
